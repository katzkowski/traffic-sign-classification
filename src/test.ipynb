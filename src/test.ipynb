{
 "cells": [
  {
   "cell_type": "code",
   "execution_count": null,
   "metadata": {},
   "outputs": [],
   "source": [
    "# imports\n",
    "import os\n",
    "import torch\n",
    "import torch.nn as nn\n",
    "\n",
    "import pandas as pd\n",
    "import numpy as np\n",
    "import matplotlib.pyplot as plt\n",
    "\n",
    "from dataset import TrafficSignDataset\n",
    "from torch.utils.data import DataLoader, Subset\n",
    "from tqdm import tqdm\n",
    "from matplotlib.patches import Rectangle\n",
    "from matplotlib import image\n",
    "from networks import TrafficSignsClassifier\n",
    "\n",
    "from torchvision import transforms\n"
   ]
  },
  {
   "cell_type": "code",
   "execution_count": null,
   "metadata": {},
   "outputs": [],
   "source": [
    "# test set transforms\n",
    "img_size=32\n",
    "dataset_mean = [86.72383685, 79.56345902, 81.93326525]\n",
    "dataset_std= [51.48834219, 50.93286751, 53.30977311]\n",
    "\n",
    "transform = transforms.Compose(\n",
    "        [\n",
    "            transforms.Resize((img_size, img_size)),\n",
    "            transforms.Normalize(mean=dataset_mean, std=dataset_std)\n",
    "        ]\n",
    ")"
   ]
  },
  {
   "cell_type": "code",
   "execution_count": null,
   "metadata": {},
   "outputs": [],
   "source": [
    "test = TrafficSignDataset(\"..\\data\\Test.csv\", \"..\\data\", transform=transform)\n",
    "\n",
    "# to visualize predictions\n",
    "unaugmented = TrafficSignDataset(\"..\\data\\Test.csv\", \"..\\data\", transform=None)\n",
    "\n",
    "print(len(test))"
   ]
  },
  {
   "cell_type": "code",
   "execution_count": null,
   "metadata": {},
   "outputs": [],
   "source": [
    "meta = pd.read_csv(\"..\\data\\Meta.csv\",index_col=False, header=0)\n",
    "meta = meta.set_index(meta[\"ClassId\"])"
   ]
  },
  {
   "cell_type": "markdown",
   "metadata": {},
   "source": [
    "### Visualize training samples"
   ]
  },
  {
   "cell_type": "code",
   "execution_count": null,
   "metadata": {},
   "outputs": [],
   "source": [
    "cols, rows = 5, 6\n",
    "idx = 0 # index of frame sequence\n",
    "\n",
    "figure = plt.figure(figsize=(20, 24))\n",
    "\n",
    "for i in range(idx * 30, idx * 30 + 30):\n",
    "    img, target = test[i]\n",
    "\n",
    "    figure.add_subplot(cols, rows, i - (idx * 30) + 1)\n",
    "\n",
    "    plt.imshow(img.byte().permute(1,2,0))\n",
    "    ax = plt.gca()\n",
    "\n",
    "    # bbox = target[\"bbox\"]\n",
    "    # x = bbox[2]\n",
    "    # y = bbox[3]\n",
    "    # box_width = bbox[4] - x\n",
    "    # box_height = bbox[5] - y\n",
    "\n",
    "    # rect = Rectangle((x,y), box_width, box_height, linewidth=1, edgecolor='r',facecolor='none')\n",
    "\n",
    "    # ax.add_patch(rect)\n",
    "    plt.axis(\"off\")\n",
    "\n",
    "plt.show()"
   ]
  },
  {
   "cell_type": "code",
   "execution_count": null,
   "metadata": {},
   "outputs": [],
   "source": [
    "batch_size = 256\n",
    "\n",
    "# setup test loader\n",
    "test_dataloader = DataLoader(test, batch_size=batch_size, shuffle=False)"
   ]
  },
  {
   "cell_type": "code",
   "execution_count": null,
   "metadata": {},
   "outputs": [],
   "source": [
    "# setup device\n",
    "device = 'cuda' if torch.cuda.is_available() else 'cpu'\n",
    "print(f\"Device: {device}\")"
   ]
  },
  {
   "cell_type": "code",
   "execution_count": null,
   "metadata": {},
   "outputs": [],
   "source": [
    "# init model\n",
    "model = TrafficSignsClassifier(None, 32, 43)\n",
    "\n",
    "# Adam\n",
    "model_name = \"2_conv_2_k3_linear_relu_bn_maxp_b256_randp01_2022-01-22_20-12-26\" \n",
    "\n",
    "# SGD 102 epochs\n",
    "# model_name = \"2_conv_2_k3_linear_relu_bn_maxp_b256_randp01_1e-3_val20_SGD2022-02-05_13-36-35\"\n",
    "\n",
    "# load trained params\n",
    "model.load_state_dict(torch.load(f\"..\\models\\{model_name}.pth\"))\n",
    "\n",
    "model.to(device)\n",
    "model.eval()"
   ]
  },
  {
   "cell_type": "code",
   "execution_count": null,
   "metadata": {},
   "outputs": [],
   "source": [
    "# define loss\n",
    "criterion = nn.CrossEntropyLoss()"
   ]
  },
  {
   "cell_type": "code",
   "execution_count": null,
   "metadata": {},
   "outputs": [],
   "source": [
    "size = len(test_dataloader.dataset)\n",
    "num_batches = len(test_dataloader)\n",
    "test_loss = 0\n",
    "correct = 0.0\n",
    "\n",
    "# test loop\n",
    "with torch.no_grad():\n",
    "    for i, data in enumerate(tqdm(test_dataloader)):\n",
    "        # move data to device\n",
    "        x, y = data\n",
    "        x, y = x.to(device), y[\"label\"].to(device)\n",
    "\n",
    "        # prediction + loss\n",
    "        logits = model(x)\n",
    "        test_loss += criterion(logits, y).item()\n",
    "        \n",
    "        # accuracy\n",
    "        preds = torch.argmax(logits, dim=1)\n",
    "        correct += torch.sum(preds == y).item()\n",
    "\n",
    "test_loss /= num_batches\n",
    "correct /= size\n",
    "print(f\"Test Error: \\n Accuracy: {(100*correct):>.2f}%, Avg loss: {test_loss:>.3f} \\n\")\n"
   ]
  },
  {
   "cell_type": "markdown",
   "metadata": {},
   "source": [
    "### Visualize predictions"
   ]
  },
  {
   "cell_type": "code",
   "execution_count": null,
   "metadata": {},
   "outputs": [],
   "source": [
    "cols, rows = 10, 6\n",
    "\n",
    "figure = plt.figure(figsize=(20, 44))\n",
    "\n",
    "ind = np.arange(60)\n",
    "sample_subset = Subset(test, ind)\n",
    "sample_dataloader = DataLoader(sample_subset, batch_size=60, shuffle=False)\n",
    "\n",
    "for data in sample_dataloader:\n",
    "    x, y = data\n",
    "    x = x.to(device)\n",
    "\n",
    "    logits = model(x)\n",
    "    _, preds = torch.max(logits, 1)\n",
    "\n",
    "    probs, top1s = torch.topk(torch.nn.functional.softmax(logits, dim=1, dtype=torch.float32), k=1, dim=1)\n",
    "\n",
    "    probs = np.around(probs.cpu().detach().numpy()* 100, decimals=2)\n",
    "\n",
    "print(preds)\n",
    "\n",
    "\n",
    "for prob, pred, i in zip(probs, preds, sample_subset.indices):\n",
    "    # show unaugmented images\n",
    "    img, target = unaugmented[i]\n",
    "\n",
    "    figure.add_subplot(cols, rows, i + 1)\n",
    "\n",
    "    target_name = meta.loc[target['label']][5]\n",
    "    pred_name = meta.loc[pred.cpu().numpy()][5]\n",
    "\n",
    "    plt.title(f\"Prediction: {pred_name} \\n Probability: {prob[0]:.2f}%\\n Target: {target_name}\")\n",
    "\n",
    "    plt.imshow(img.byte().permute(1,2,0))\n",
    "    ax = plt.gca()\n",
    "\n",
    "    # bbox = target[\"bbox\"]\n",
    "    # x = bbox[2]\n",
    "    # y = bbox[3]\n",
    "    # box_width = bbox[4] - x\n",
    "    # box_height = bbox[5] - y\n",
    "\n",
    "    # rect = Rectangle((x,y), box_width, box_height, linewidth=1, edgecolor='r',facecolor='none')\n",
    "\n",
    "    # ax.add_patch(rect)\n",
    "    plt.axis(\"off\")\n",
    "\n",
    "plt.show()"
   ]
  },
  {
   "cell_type": "markdown",
   "metadata": {},
   "source": [
    "### Confusion matrix"
   ]
  },
  {
   "cell_type": "code",
   "execution_count": null,
   "metadata": {},
   "outputs": [],
   "source": [
    "num_classes = 43\n",
    "\n",
    "confusion_matrix = torch.zeros(num_classes, num_classes)\n",
    "with torch.no_grad():\n",
    "    for i, (x, y) in enumerate(test_dataloader):\n",
    "        x = x.to(device)\n",
    "        y = y[\"label\"].to(device)\n",
    "        outputs = model(x)\n",
    "        _, preds = torch.max(outputs, 1)\n",
    "        for t, p in zip(y.view(-1), preds.view(-1)):\n",
    "                confusion_matrix[t, p] += 1\n",
    "\n",
    "print(confusion_matrix)"
   ]
  },
  {
   "cell_type": "code",
   "execution_count": null,
   "metadata": {},
   "outputs": [],
   "source": [
    "import seaborn as sns\n",
    "\n",
    "rows_sum = confusion_matrix.sum(axis=1)\n",
    "\n",
    "norm_confusion_matrix = confusion_matrix / rows_sum[:, np.newaxis]\n",
    "\n",
    "sns.set(rc={'figure.figsize':(24,20)})\n",
    "ax = sns.heatmap(norm_confusion_matrix, annot=True, cmap='Blues', fmt='.1f')\n",
    "\n",
    "plt.show()"
   ]
  }
 ],
 "metadata": {
  "interpreter": {
   "hash": "28ba2f32f3a695c978abacd56b304aa4de162295fc3a67cb69c1cbb34fdbab11"
  },
  "kernelspec": {
   "display_name": "Python 3.8.3 64-bit ('venv': venv)",
   "language": "python",
   "name": "python3"
  },
  "language_info": {
   "codemirror_mode": {
    "name": "ipython",
    "version": 3
   },
   "file_extension": ".py",
   "mimetype": "text/x-python",
   "name": "python",
   "nbconvert_exporter": "python",
   "pygments_lexer": "ipython3",
   "version": "3.8.3"
  },
  "orig_nbformat": 4
 },
 "nbformat": 4,
 "nbformat_minor": 2
}
